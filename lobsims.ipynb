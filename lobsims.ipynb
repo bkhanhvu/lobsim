{
  "nbformat": 4,
  "nbformat_minor": 0,
  "metadata": {
    "colab": {
      "provenance": [],
      "authorship_tag": "ABX9TyM0jrF5qRvmHo0PXYdkvrAl",
      "include_colab_link": true
    },
    "kernelspec": {
      "name": "python3",
      "display_name": "Python 3"
    },
    "language_info": {
      "name": "python"
    }
  },
  "cells": [
    {
      "cell_type": "markdown",
      "metadata": {
        "id": "view-in-github",
        "colab_type": "text"
      },
      "source": [
        "<a href=\"https://colab.research.google.com/github/bkhanhvu/lobsim/blob/main/lobsims.ipynb\" target=\"_parent\"><img src=\"https://colab.research.google.com/assets/colab-badge.svg\" alt=\"Open In Colab\"/></a>"
      ]
    },
    {
      "cell_type": "code",
      "execution_count": null,
      "metadata": {
        "id": "bpq3SP-9wnGp"
      },
      "outputs": [],
      "source": [
        "import numpy as np"
      ]
    },
    {
      "cell_type": "code",
      "source": [
        "order_types = ['sell', 'buy']\n",
        "order_categories = ['limit', 'cancellation']"
      ],
      "metadata": {
        "id": "7S3-5e5RJeSH"
      },
      "execution_count": null,
      "outputs": []
    },
    {
      "cell_type": "code",
      "source": [
        "max(0, 1)"
      ],
      "metadata": {
        "colab": {
          "base_uri": "https://localhost:8080/"
        },
        "id": "69DBFYl0R1u0",
        "outputId": "559d7b9b-6726-42d2-dc3f-7b5ab52b6faf"
      },
      "execution_count": null,
      "outputs": [
        {
          "output_type": "execute_result",
          "data": {
            "text/plain": [
              "1"
            ]
          },
          "metadata": {},
          "execution_count": 90
        }
      ]
    },
    {
      "cell_type": "code",
      "source": [
        "def addorder(X_prev, p, order_type, order_category):\n",
        "  if 1<=p<=n:\n",
        "    bp = np.argwhere(X_prev < 0)\n",
        "    bp = 0 if bp.size == 0 else bp.flatten()[-1]\n",
        "\n",
        "    ap = np.argwhere(X_prev > 0)\n",
        "    ap = n - 1 if ap.size == 0 else ap.flatten()[0]\n",
        "\n",
        "    X = X_prev\n",
        "\n",
        "    if order_category == 'limit':\n",
        "      if order_type == 'sell':\n",
        "        if p > bp + 1:\n",
        "          X[p - 1] += 1\n",
        "        else:\n",
        "          X[bp - 1] += 1\n",
        "      elif order_type == 'buy':\n",
        "        if p < ap + 1:\n",
        "          X[p - 1] -= 1\n",
        "        else:\n",
        "          X[ap - 1] -= 1\n",
        "    \n",
        "    elif order_category == 'cancellation':\n",
        "      if order_type == 'sell':\n",
        "        X[p - 1] = max(0, X[p - 1] - 1)\n",
        "      elif order_type == 'buy':\n",
        "        X[p - 1] = min(0, X[p - 1] + 1)\n",
        "    \n",
        "    if (np.argwhere(X_prev < 0)).size != 0:\n",
        "      bp = np.argwhere(X_prev < 0).flatten()[-1]\n",
        "    if (np.argwhere(X > 0)).size != 0:\n",
        "      ap = np.argwhere(X > 0).flatten()[0]\n",
        "    return X, ap + 1, bp + 1\n",
        "\n",
        "\n",
        "\n"
      ],
      "metadata": {
        "id": "3GegeoG2JnRa"
      },
      "execution_count": null,
      "outputs": []
    },
    {
      "cell_type": "code",
      "source": [
        "abs(X)"
      ],
      "metadata": {
        "colab": {
          "base_uri": "https://localhost:8080/"
        },
        "id": "t65CgWyVgRlO",
        "outputId": "ff6034eb-1c64-4d2e-b630-9c733c1f7be7"
      },
      "execution_count": null,
      "outputs": [
        {
          "output_type": "execute_result",
          "data": {
            "text/plain": [
              "array([0., 0., 0., 0., 0., 0., 0., 0., 0., 0., 0., 0., 0., 0., 0., 0., 0.,\n",
              "       0., 0., 0., 0., 0., 0., 0., 0., 0., 0., 0., 0., 0., 0., 0., 0., 0.,\n",
              "       0., 0., 0., 0., 0., 0., 0., 0., 0., 1., 0., 0., 0., 0., 0., 0., 0.,\n",
              "       0., 0., 0., 0., 0., 1., 0., 0., 0., 0., 0., 0., 0., 0., 0., 0., 0.,\n",
              "       0., 0., 0., 0., 0., 0., 0., 0., 0., 0., 0., 0., 0., 0., 0., 0., 0.,\n",
              "       0., 0., 0., 0., 0., 0., 0., 0., 0., 0., 0., 0., 0., 0., 0.])"
            ]
          },
          "metadata": {},
          "execution_count": 188
        }
      ]
    },
    {
      "cell_type": "code",
      "source": [],
      "metadata": {
        "colab": {
          "base_uri": "https://localhost:8080/"
        },
        "id": "uRZioe9ah4W8",
        "outputId": "8863f71a-ae74-4462-daed-f726064fe178"
      },
      "execution_count": null,
      "outputs": [
        {
          "output_type": "execute_result",
          "data": {
            "text/plain": [
              "(array([0., 0., 0., 0., 0., 0., 0., 0., 0., 0., 0., 0., 0., 0., 0., 0., 0.,\n",
              "        0., 0., 0., 0., 0., 0., 0., 0., 0., 0., 0., 0., 0., 0., 0., 0., 0.,\n",
              "        0., 0., 0., 0., 0., 0., 0., 0., 0., 0., 0., 0., 0., 0., 0., 0., 0.,\n",
              "        0., 0., 0., 0., 0., 1., 0., 0., 0., 0., 0., 0., 0., 0., 0., 0., 0.,\n",
              "        0., 0., 0., 0., 0., 0., 0., 0., 0., 0., 0., 0., 0., 0., 0., 0., 0.,\n",
              "        0., 0., 0., 0., 0., 0., 0., 0., 0., 0., 0., 0., 0., 0., 0.]), 57, 1)"
            ]
          },
          "metadata": {},
          "execution_count": 198
        }
      ]
    },
    {
      "cell_type": "code",
      "source": [
        "X = addorder(X, 57, 'sell', 'limit')\n"
      ],
      "metadata": {
        "id": "4zmYeaaWiZam"
      },
      "execution_count": null,
      "outputs": []
    },
    {
      "cell_type": "code",
      "source": [
        "n = 100\n",
        "t_max = 3600\n",
        "X = np.zeros(n)\n",
        "k = 1.92\n",
        "alpha = 0.52\n",
        "mu = 1.2\n",
        "\n",
        "i = np.arange(1, 101)\n",
        "lmbda = k / (i ** alpha)\n",
        "theta = np.ones(n) * 0.47\n",
        "theta[:4] = [0.71, 0.81, 0.68, 0.56]\n",
        "\n",
        "X,ap, bp = addorder(X, 57, 'sell', 'limit')\n",
        "X, ap, bp = addorder(X, 44, 'buy', 'limit')\n",
        "\n",
        "R = np.ones((4, n)) * np.Inf\n",
        "R[0, :] = np.random.exponential(1 / lmbda)\n",
        "R[1, 0] = np.random.exponential(1 / mu)\n",
        "R[2, :n-bp] = np.random.exponential((1 / theta[:n-bp]) * abs(X[bp:]))\n",
        "R[3, :ap] = np.random.exponential((1 / theta[:ap]) * abs(X[:ap]))"
      ],
      "metadata": {
        "id": "vHb94PcxEGaV"
      },
      "execution_count": null,
      "outputs": []
    },
    {
      "cell_type": "code",
      "source": [
        "X, ap, bp = addorder(X, 57, 'sell', 'limit')\n",
        "X, ap, bp = addorder(X, 44, 'buy', 'limit')"
      ],
      "metadata": {
        "id": "KBdpzCI8H0fC"
      },
      "execution_count": null,
      "outputs": []
    }
  ]
}